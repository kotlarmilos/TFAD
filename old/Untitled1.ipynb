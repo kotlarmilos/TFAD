{
 "cells": [
  {
   "cell_type": "code",
   "execution_count": 1,
   "metadata": {},
   "outputs": [
    {
     "name": "stdout",
     "output_type": "stream",
     "text": [
      "(['attr_conc.mean', 'attr_conc.sd', 'attr_ent.mean', 'attr_ent.sd', 'attr_to_inst', 'cat_to_num', 'cor.mean', 'cor.sd', 'cov.mean', 'cov.sd', 'eigenvalues.mean', 'eigenvalues.sd', 'g_mean.mean', 'g_mean.sd', 'h_mean.mean', 'h_mean.sd', 'inst_to_attr', 'iq_range.mean', 'iq_range.sd', 'kurtosis.mean', 'kurtosis.sd', 'mad.mean', 'mad.sd', 'max.mean', 'max.sd', 'mean.mean', 'mean.sd', 'median.mean', 'median.sd', 'min.mean', 'min.sd', 'nr_attr', 'nr_bin', 'nr_cat', 'nr_cor_attr', 'nr_inst', 'nr_norm', 'nr_num', 'nr_outliers', 'num_to_cat', 'range.mean', 'range.sd', 'sd.mean', 'sd.sd', 'skewness.mean', 'skewness.sd', 'sparsity.mean', 'sparsity.sd', 't_mean.mean', 't_mean.sd', 'var.mean', 'var.sd'], [0.20980477, 0.11958799, 2.2771912, 0.061039437, 0.02666666666666667, 0.0, 0.59411603, 0.33754432, 0.59665424, 0.55826724, 1.1432393, 2.0587714, 3.223073, 2.0229433, 2.978389, 2.1459482, 37.5, 1.7, 1.2754084, -0.81053615, 0.732691, 1.0934175, 0.57857823, 5.425, 2.443188, 3.4645, 1.9184852, 3.6125, 1.9193642, 1.85, 1.8083142, 4, 0, 0, 0.5, 150, 1, 4, 1, nan, 3.5749998, 1.65, 0.94786704, 0.57129943, 0.062731974, 0.29439896, 0.028714776, 0.011032357, 3.4705555, 1.9048021, 1.1432393, 1.3325465])\n",
      "(['attr_conc.mean', 'attr_conc.sd', 'attr_ent.mean', 'attr_ent.sd', 'attr_to_inst', 'cat_to_num', 'cohesiveness.mean', 'cohesiveness.sd', 'cor.mean', 'cor.sd', 'cov.mean', 'cov.sd', 'eigenvalues.mean', 'eigenvalues.sd', 'g_mean.mean', 'g_mean.sd', 'h_mean.mean', 'h_mean.sd', 'inst_to_attr', 'iq_range.mean', 'iq_range.sd', 'kurtosis.mean', 'kurtosis.sd', 'mad.mean', 'mad.sd', 'max.mean', 'max.sd', 'mean.mean', 'mean.sd', 'median.mean', 'median.sd', 'min.mean', 'min.sd', 'nr_attr', 'nr_bin', 'nr_cat', 'nr_cor_attr', 'nr_inst', 'nr_norm', 'nr_num', 'nr_outliers', 'num_to_cat', 'one_itemset.mean', 'one_itemset.sd', 'range.mean', 'range.sd', 'sd.mean', 'sd.sd', 'skewness.mean', 'skewness.sd', 'sparsity.mean', 'sparsity.sd', 't2', 't3', 't4', 't_mean.mean', 't_mean.sd', 'two_itemset.mean', 'two_itemset.sd', 'var.mean', 'var.sd', 'wg_dist.mean', 'wg_dist.sd'], [0.20980477, 0.11958799, 2.2771912, 0.061039437, 0.02666666666666667, 0.0, 67.10333, 5.3557334, 0.59411603, 0.33754432, 0.59665424, 0.55826724, 1.1432393, 2.0587714, 3.223073, 2.0229433, 2.978389, 2.1459482, 37.5, 1.7, 1.2754084, -0.81053615, 0.732691, 1.0934175, 0.57857823, 5.425, 2.443188, 3.4645, 1.9184852, 3.6125, 1.9193642, 1.85, 1.8083142, 4, 0, 0, 0.5, 150, 1, 4, 1, nan, 0.2, 0.049935635, 3.5749998, 1.65, 0.94786704, 0.57129943, 0.062731974, 0.29439896, 0.028714776, 0.011032357, 0.02666666666666667, 0.013333333333333334, 0.5, 3.4705555, 1.9048021, 0.32, 0.08511255, 1.1432393, 1.3325465, 0.46209013, 0.056121934])\n"
     ]
    }
   ],
   "source": [
    "# Load a dataset\n",
    "from sklearn.datasets import load_iris\n",
    "from pymfe.mfe import MFE\n",
    "\n",
    "data = load_iris()\n",
    "y = data.target\n",
    "X = data.data\n",
    "\n",
    "# Extract default unsupervised measures\n",
    "mfe = MFE()\n",
    "mfe.fit(X)\n",
    "ft = mfe.extract()\n",
    "print(ft)\n",
    "\n",
    "# Extract all available unsupervised measures\n",
    "mfe = MFE(groups=\"all\")\n",
    "mfe.fit(X)\n",
    "ft = mfe.extract()\n",
    "print(ft)"
   ]
  },
  {
   "cell_type": "code",
   "execution_count": null,
   "metadata": {},
   "outputs": [],
   "source": []
  },
  {
   "cell_type": "code",
   "execution_count": null,
   "metadata": {},
   "outputs": [],
   "source": []
  }
 ],
 "metadata": {
  "kernelspec": {
   "display_name": "Python 3",
   "language": "python",
   "name": "python3"
  },
  "language_info": {
   "codemirror_mode": {
    "name": "ipython",
    "version": 3
   },
   "file_extension": ".py",
   "mimetype": "text/x-python",
   "name": "python",
   "nbconvert_exporter": "python",
   "pygments_lexer": "ipython3",
   "version": "3.7.6"
  }
 },
 "nbformat": 4,
 "nbformat_minor": 4
}
