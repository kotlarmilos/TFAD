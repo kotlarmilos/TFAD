{
 "cells": [
  {
   "cell_type": "code",
   "execution_count": 1,
   "metadata": {
    "colab": {
     "base_uri": "https://localhost:8080/",
     "height": 1000
    },
    "colab_type": "code",
    "executionInfo": {
     "elapsed": 36822,
     "status": "ok",
     "timestamp": 1588954416934,
     "user": {
      "displayName": "Milos Kotlar",
      "photoUrl": "https://lh3.googleusercontent.com/a-/AOh14GhEMiwyzwMz55obXVpjlEhIWhJztN2l9NtZoJ3CTw=s64",
      "userId": "15641867929139600144"
     },
     "user_tz": -120
    },
    "id": "CbS-4H4BAdUJ",
    "outputId": "d256f54f-fd89-4275-8762-fd7d7bc99659"
   },
   "outputs": [],
   "source": [
    "# !curl -s https://packagecloud.io/install/repositories/github/git-lfs/script.deb.sh | sudo bash\n",
    "# !sudo apt-get install git-lfs\n",
    "# !git lfs install\n",
    "\n",
    "# #!rm -rf anomaly-detection-datasets\n",
    "\n",
    "# !git clone https://github.com/kotlarmilos/anomaly-detection-datasets.git \n",
    "# !cd anomaly-detection-datasets && git pull\n",
    "# !ls -la anomaly-detection-datasets\n",
    "# !pip install pymfe\n",
    "# !ls -la anomaly-detection-datasets\n",
    "\n",
    "python -m pip install mysql-connector"
   ]
  },
  {
   "cell_type": "code",
   "execution_count": null,
   "metadata": {
    "colab": {},
    "colab_type": "code",
    "id": "3IRFyOke5Sax"
   },
   "outputs": [],
   "source": [
    "\n",
    "\n",
    "# data cleansing\n",
    "import numpy as np\n",
    "import pandas as pd\n",
    "from pymfe.mfe import MFE\n",
    "from sklearn.model_selection import KFold\n",
    "from sklearn.metrics import confusion_matrix\n",
    "from sklearn.metrics import log_loss\n",
    "from sklearn.metrics import roc_auc_score\n",
    "from sklearn.metrics import mean_absolute_error\n",
    "from sklearn.metrics import mean_squared_error\n",
    "\n",
    "def data_transformation(uri, target=None, mfe=True, nrows=1000):\n",
    "    df = pd.read_csv(uri,\n",
    "                     dtype={'srcip': 'object','dstip': 'object', 'ct_dst_src_ltm': 'int64'}, \n",
    "                     nrows=nrows)\n",
    "\n",
    "    # convert objects to category codes\n",
    "    for col_name in df.columns:\n",
    "        if(df[col_name].dtype == 'object'):\n",
    "            df[col_name]= df[col_name].astype('category')\n",
    "            df[col_name] = df[col_name].cat.codes.astype('int64')\n",
    "\n",
    "    # split dataset into features and target arrays\n",
    "    dataset = df.to_numpy()\n",
    "    features = np.nan_to_num(df.drop(columns=['Label']).to_numpy())\n",
    "    target = df['Label'].to_numpy()\n",
    "\n",
    "    # Extract general, statistical and information-theoretic measures\n",
    "    ft = ()\n",
    "    if (mfe==True):\n",
    "        mfe = MFE(groups=[\"general\", \"statistical\", \"info-theory\"])\n",
    "        mfe.fit(features, target)\n",
    "        ft = mfe.extract()\n",
    "    \n",
    "    return dataset, features, target, ft"
   ]
  },
  {
   "cell_type": "code",
   "execution_count": 3,
   "metadata": {
    "colab": {
     "base_uri": "https://localhost:8080/",
     "height": 697
    },
    "colab_type": "code",
    "executionInfo": {
     "elapsed": 45507,
     "status": "ok",
     "timestamp": 1588954425644,
     "user": {
      "displayName": "Milos Kotlar",
      "photoUrl": "https://lh3.googleusercontent.com/a-/AOh14GhEMiwyzwMz55obXVpjlEhIWhJztN2l9NtZoJ3CTw=s64",
      "userId": "15641867929139600144"
     },
     "user_tz": -120
    },
    "id": "j9W3xVwl5Sa1",
    "outputId": "76becda8-a6de-4a13-db76-1bf41a861946"
   },
   "outputs": [
    {
     "name": "stdout",
     "output_type": "stream",
     "text": [
      "INFO:tensorflow:Initializing the TPU system: grpc://10.67.69.90:8470\n"
     ]
    },
    {
     "name": "stderr",
     "output_type": "stream",
     "text": [
      "INFO:tensorflow:Initializing the TPU system: grpc://10.67.69.90:8470\n"
     ]
    },
    {
     "name": "stdout",
     "output_type": "stream",
     "text": [
      "INFO:tensorflow:Clearing out eager caches\n"
     ]
    },
    {
     "name": "stderr",
     "output_type": "stream",
     "text": [
      "INFO:tensorflow:Clearing out eager caches\n"
     ]
    },
    {
     "name": "stdout",
     "output_type": "stream",
     "text": [
      "INFO:tensorflow:Finished initializing TPU system.\n"
     ]
    },
    {
     "name": "stderr",
     "output_type": "stream",
     "text": [
      "INFO:tensorflow:Finished initializing TPU system.\n"
     ]
    },
    {
     "name": "stdout",
     "output_type": "stream",
     "text": [
      "INFO:tensorflow:Found TPU system:\n"
     ]
    },
    {
     "name": "stderr",
     "output_type": "stream",
     "text": [
      "INFO:tensorflow:Found TPU system:\n"
     ]
    },
    {
     "name": "stdout",
     "output_type": "stream",
     "text": [
      "INFO:tensorflow:*** Num TPU Cores: 8\n"
     ]
    },
    {
     "name": "stderr",
     "output_type": "stream",
     "text": [
      "INFO:tensorflow:*** Num TPU Cores: 8\n"
     ]
    },
    {
     "name": "stdout",
     "output_type": "stream",
     "text": [
      "INFO:tensorflow:*** Num TPU Workers: 1\n"
     ]
    },
    {
     "name": "stderr",
     "output_type": "stream",
     "text": [
      "INFO:tensorflow:*** Num TPU Workers: 1\n"
     ]
    },
    {
     "name": "stdout",
     "output_type": "stream",
     "text": [
      "INFO:tensorflow:*** Num TPU Cores Per Worker: 8\n"
     ]
    },
    {
     "name": "stderr",
     "output_type": "stream",
     "text": [
      "INFO:tensorflow:*** Num TPU Cores Per Worker: 8\n"
     ]
    },
    {
     "name": "stdout",
     "output_type": "stream",
     "text": [
      "INFO:tensorflow:*** Available Device: _DeviceAttributes(/job:localhost/replica:0/task:0/device:CPU:0, CPU, 0, 0)\n"
     ]
    },
    {
     "name": "stderr",
     "output_type": "stream",
     "text": [
      "INFO:tensorflow:*** Available Device: _DeviceAttributes(/job:localhost/replica:0/task:0/device:CPU:0, CPU, 0, 0)\n"
     ]
    },
    {
     "name": "stdout",
     "output_type": "stream",
     "text": [
      "INFO:tensorflow:*** Available Device: _DeviceAttributes(/job:localhost/replica:0/task:0/device:XLA_CPU:0, XLA_CPU, 0, 0)\n"
     ]
    },
    {
     "name": "stderr",
     "output_type": "stream",
     "text": [
      "INFO:tensorflow:*** Available Device: _DeviceAttributes(/job:localhost/replica:0/task:0/device:XLA_CPU:0, XLA_CPU, 0, 0)\n"
     ]
    },
    {
     "name": "stdout",
     "output_type": "stream",
     "text": [
      "INFO:tensorflow:*** Available Device: _DeviceAttributes(/job:worker/replica:0/task:0/device:CPU:0, CPU, 0, 0)\n"
     ]
    },
    {
     "name": "stderr",
     "output_type": "stream",
     "text": [
      "INFO:tensorflow:*** Available Device: _DeviceAttributes(/job:worker/replica:0/task:0/device:CPU:0, CPU, 0, 0)\n"
     ]
    },
    {
     "name": "stdout",
     "output_type": "stream",
     "text": [
      "INFO:tensorflow:*** Available Device: _DeviceAttributes(/job:worker/replica:0/task:0/device:TPU:0, TPU, 0, 0)\n"
     ]
    },
    {
     "name": "stderr",
     "output_type": "stream",
     "text": [
      "INFO:tensorflow:*** Available Device: _DeviceAttributes(/job:worker/replica:0/task:0/device:TPU:0, TPU, 0, 0)\n"
     ]
    },
    {
     "name": "stdout",
     "output_type": "stream",
     "text": [
      "INFO:tensorflow:*** Available Device: _DeviceAttributes(/job:worker/replica:0/task:0/device:TPU:1, TPU, 0, 0)\n"
     ]
    },
    {
     "name": "stderr",
     "output_type": "stream",
     "text": [
      "INFO:tensorflow:*** Available Device: _DeviceAttributes(/job:worker/replica:0/task:0/device:TPU:1, TPU, 0, 0)\n"
     ]
    },
    {
     "name": "stdout",
     "output_type": "stream",
     "text": [
      "INFO:tensorflow:*** Available Device: _DeviceAttributes(/job:worker/replica:0/task:0/device:TPU:2, TPU, 0, 0)\n"
     ]
    },
    {
     "name": "stderr",
     "output_type": "stream",
     "text": [
      "INFO:tensorflow:*** Available Device: _DeviceAttributes(/job:worker/replica:0/task:0/device:TPU:2, TPU, 0, 0)\n"
     ]
    },
    {
     "name": "stdout",
     "output_type": "stream",
     "text": [
      "INFO:tensorflow:*** Available Device: _DeviceAttributes(/job:worker/replica:0/task:0/device:TPU:3, TPU, 0, 0)\n"
     ]
    },
    {
     "name": "stderr",
     "output_type": "stream",
     "text": [
      "INFO:tensorflow:*** Available Device: _DeviceAttributes(/job:worker/replica:0/task:0/device:TPU:3, TPU, 0, 0)\n"
     ]
    },
    {
     "name": "stdout",
     "output_type": "stream",
     "text": [
      "INFO:tensorflow:*** Available Device: _DeviceAttributes(/job:worker/replica:0/task:0/device:TPU:4, TPU, 0, 0)\n"
     ]
    },
    {
     "name": "stderr",
     "output_type": "stream",
     "text": [
      "INFO:tensorflow:*** Available Device: _DeviceAttributes(/job:worker/replica:0/task:0/device:TPU:4, TPU, 0, 0)\n"
     ]
    },
    {
     "name": "stdout",
     "output_type": "stream",
     "text": [
      "INFO:tensorflow:*** Available Device: _DeviceAttributes(/job:worker/replica:0/task:0/device:TPU:5, TPU, 0, 0)\n"
     ]
    },
    {
     "name": "stderr",
     "output_type": "stream",
     "text": [
      "INFO:tensorflow:*** Available Device: _DeviceAttributes(/job:worker/replica:0/task:0/device:TPU:5, TPU, 0, 0)\n"
     ]
    },
    {
     "name": "stdout",
     "output_type": "stream",
     "text": [
      "INFO:tensorflow:*** Available Device: _DeviceAttributes(/job:worker/replica:0/task:0/device:TPU:6, TPU, 0, 0)\n"
     ]
    },
    {
     "name": "stderr",
     "output_type": "stream",
     "text": [
      "INFO:tensorflow:*** Available Device: _DeviceAttributes(/job:worker/replica:0/task:0/device:TPU:6, TPU, 0, 0)\n"
     ]
    },
    {
     "name": "stdout",
     "output_type": "stream",
     "text": [
      "INFO:tensorflow:*** Available Device: _DeviceAttributes(/job:worker/replica:0/task:0/device:TPU:7, TPU, 0, 0)\n"
     ]
    },
    {
     "name": "stderr",
     "output_type": "stream",
     "text": [
      "INFO:tensorflow:*** Available Device: _DeviceAttributes(/job:worker/replica:0/task:0/device:TPU:7, TPU, 0, 0)\n"
     ]
    },
    {
     "name": "stdout",
     "output_type": "stream",
     "text": [
      "INFO:tensorflow:*** Available Device: _DeviceAttributes(/job:worker/replica:0/task:0/device:TPU_SYSTEM:0, TPU_SYSTEM, 0, 0)\n"
     ]
    },
    {
     "name": "stderr",
     "output_type": "stream",
     "text": [
      "INFO:tensorflow:*** Available Device: _DeviceAttributes(/job:worker/replica:0/task:0/device:TPU_SYSTEM:0, TPU_SYSTEM, 0, 0)\n"
     ]
    },
    {
     "name": "stdout",
     "output_type": "stream",
     "text": [
      "INFO:tensorflow:*** Available Device: _DeviceAttributes(/job:worker/replica:0/task:0/device:XLA_CPU:0, XLA_CPU, 0, 0)\n"
     ]
    },
    {
     "name": "stderr",
     "output_type": "stream",
     "text": [
      "INFO:tensorflow:*** Available Device: _DeviceAttributes(/job:worker/replica:0/task:0/device:XLA_CPU:0, XLA_CPU, 0, 0)\n"
     ]
    }
   ],
   "source": [
    "#initialize tensorflow\n",
    "import tensorflow as tf\n",
    "from tensorflow.python.client import device_lib\n",
    "import os\n",
    "strategy = None\n",
    "if (os.environ.get('COLAB_TPU_ADDR')!=None):\n",
    "  os.environ['TPU_ADDR'] = os.environ['COLAB_TPU_ADDR']\n",
    "# else:\n",
    "#   os.environ['TPU_ADDR'] = '10.15.20.26:8470'\n",
    "\n",
    "if (os.environ.get('TPU_ADDR')!=None):\n",
    "    resolver = tf.distribute.cluster_resolver.TPUClusterResolver(tpu='grpc://' + os.environ['TPU_ADDR'])\n",
    "    tf.config.experimental_connect_to_cluster(resolver)\n",
    "    # This is the TPU initialization code that has to be at the beginning.\n",
    "    tf.tpu.experimental.initialize_tpu_system(resolver)\n",
    "    strategy = tf.distribute.experimental.TPUStrategy(resolver)"
   ]
  },
  {
   "cell_type": "code",
   "execution_count": null,
   "metadata": {
    "colab": {},
    "colab_type": "code",
    "id": "AgoK4d9X5Sa4"
   },
   "outputs": [],
   "source": [
    "def kNN(features_tf, target_tf, sample_tf, k_tf):\n",
    "    neg_one = tf.constant(-1.0, dtype=tf.float64)\n",
    "    # we compute the L-1 distance\n",
    "    distances =  tf.reduce_sum(tf.abs(tf.subtract(features_tf, sample_tf)), 1)\n",
    "    # to find the nearest points, we find the farthest points based on negative distances\n",
    "    # we need this trick because tensorflow has top_k api and no closest_k or reverse=True api\n",
    "    neg_distances = tf.multiply(distances, neg_one)\n",
    "    # get the indices\n",
    "    vals, indx = tf.nn.top_k(neg_distances, k_tf)\n",
    "    # slice the labels of these points\n",
    "    ps = tf.gather(target_tf, indx)\n",
    "    counts = np.bincount(ps.numpy().astype('int64'))\n",
    "    return np.argmax(counts)"
   ]
  },
  {
   "cell_type": "code",
   "execution_count": null,
   "metadata": {
    "colab": {},
    "colab_type": "code",
    "id": "DgN8GELX5Sa6"
   },
   "outputs": [],
   "source": [
    "def run_on_device(device_name, method, parameters, features, target=None, n_folds=None):\n",
    "    mean_exec_time = mean_latency = tn_mean = fp_mean = fn_mean = tp_mean = logloss_mean = auc_mean = abs_err_mean = sq_err_mean =  []\n",
    "    i=1\n",
    "    k_tf = tf.constant(parameters['k'])\n",
    "    print('====== Model details ======')\n",
    "    print('Method:', method)\n",
    "    print('Parameters:', parameters)\n",
    "    print('Dataset size (instances, features):', features.shape)\n",
    "    print('Number of folds:', n_folds)\n",
    "    print('Train instances per fold:', features.shape[0] - features.shape[0]/n_folds)\n",
    "    print('Test instances per fold:', features.shape[0]/n_folds)\n",
    "    print('===========================')\n",
    "    print()\n",
    "    print('====== Hardware details ======')\n",
    "    print('Device name:', device_name)\n",
    "    print('Tensorflow version:', tf.__version__)\n",
    "    print('===========================')\n",
    "    print()\n",
    "    print('====== Execution details ======')\n",
    "    kf = KFold(n_splits=n_folds, shuffle=True)\n",
    "    for train_index, test_index in kf.split(features):\n",
    "        features_train, features_test, target_train, target_test = features[train_index], features[test_index], target[train_index], target[test_index]\n",
    "        features_tf = tf.constant(features_train)\n",
    "        target_tf = tf.constant(target_train)\n",
    "        scores = []\n",
    "        \n",
    "        start_time = tf.timestamp()\n",
    "        for sample in features_test:\n",
    "            sample_tf = tf.constant(sample)\n",
    "            p = kNN(features_tf, target_tf, sample_tf, k_tf)\n",
    "            scores = np.append(scores,p)\n",
    "        elapsed_time = tf.timestamp()-start_time\n",
    "        tn, fp, fn, tp = confusion_matrix(target_test, scores,labels=[0,1]).ravel()\n",
    "        logloss_mean= np.append(logloss_mean,log_loss(target_test, scores, eps=1e-15,labels=[0,1]))\n",
    "        try:\n",
    "            auc_mean= np.append(auc_mean,roc_auc_score(target_test, scores))\n",
    "        except:\n",
    "            auc_mean = 0\n",
    "        abs_err_mean = np.append(abs_err_mean, mean_absolute_error(target_test, scores))\n",
    "        sq_err_mean = np.append(sq_err_mean, mean_squared_error(target_test, scores))\n",
    "        tn_mean= np.append(tn_mean,tn)\n",
    "        fp_mean= np.append(fp_mean,fp)\n",
    "        fn_mean= np.append(fn_mean,fn)\n",
    "        tp_mean= np.append(tp_mean,tp)\n",
    "        mean_exec_time.append(elapsed_time)\n",
    "        mean_latency.append(elapsed_time/target_test.size)\n",
    "        print(str(i)+\". Fold (execution time:\",str(elapsed_time.numpy()),\"seconds, latency:\",elapsed_time.numpy()/scores.size)\n",
    "        i+=1\n",
    "    \n",
    "    tn, fp, fn, tp, logloss, auc, sq_mean_err, abs_mean_err = np.mean(tn_mean),np.mean(fp_mean),np.mean(fn_mean),np.mean(tp_mean),np.mean(logloss_mean), np.mean(auc_mean), np.mean(sq_err_mean),np.mean(abs_err_mean)\n",
    "    total_examples = target.size/n_folds\n",
    "    acc = (tp+tn)/total_examples\n",
    "    prec = (tp)/(tp+fp)\n",
    "    recall = (tp)/(tp+fn)\n",
    "    f1 = 2*(prec*recall)/(prec+recall)\n",
    "    print()\n",
    "    print('====== Summary details ======')\n",
    "    print('Accuracy:', acc*100)\n",
    "    print('Precision:', prec*100)\n",
    "    print('Recall:', recall*100)\n",
    "    print('F1 score:', f1*100)\n",
    "    print('Log loss:',logloss)\n",
    "    print('AUC:',auc)\n",
    "    print('Mean squared error:',sq_mean_err)\n",
    "    print('Mean abs error:',abs_mean_err)\n",
    "    print()\n",
    "    print(\"Confusion matrix\",\"negative (predicted)  positive (predicted)\")\n",
    "    print(\"negative (actual)       \", tn,\"              \",fp)\n",
    "    print(\"positive (actual)       \", fn,\"              \",tp)\n",
    "    print()\n",
    "    print('Mean execution time:', np.mean(mean_exec_time))\n",
    "    print('Mean latency:', np.mean(mean_latency))\n",
    "    "
   ]
  },
  {
   "cell_type": "code",
   "execution_count": null,
   "metadata": {
    "colab": {},
    "colab_type": "code",
    "id": "7W4z647W5Sa9"
   },
   "outputs": [],
   "source": [
    "def build_model(method, parameters, features, target=None, n_folds=None):\n",
    "    local_device_protos = device_lib.list_local_devices()\n",
    "    for device in local_device_protos:\n",
    "        if ('XLA' not in device.name):\n",
    "            with tf.device(device.name):\n",
    "                run_on_device(device.name, method, parameters, features, target, n_folds)\n",
    "    if (strategy):\n",
    "        with strategy.scope():\n",
    "            run_on_device('TPU', method, parameters, features, target, n_folds)\n",
    "\n",
    "        "
   ]
  },
  {
   "cell_type": "code",
   "execution_count": 7,
   "metadata": {
    "colab": {
     "base_uri": "https://localhost:8080/",
     "height": 1000
    },
    "colab_type": "code",
    "executionInfo": {
     "elapsed": 141726,
     "status": "ok",
     "timestamp": 1588954522011,
     "user": {
      "displayName": "Milos Kotlar",
      "photoUrl": "https://lh3.googleusercontent.com/a-/AOh14GhEMiwyzwMz55obXVpjlEhIWhJztN2l9NtZoJ3CTw=s64",
      "userId": "15641867929139600144"
     },
     "user_tz": -120
    },
    "id": "qbPIGhxd5SbA",
    "outputId": "853d19d8-85a3-44ba-bb5c-a2ad5f32cd97"
   },
   "outputs": [
    {
     "name": "stderr",
     "output_type": "stream",
     "text": [
      "Warning: It is not possible make equal discretization\n",
      "Warning: Can't summarize feature 'can_cor' with summary 'sd'. Will set it as 'np.nan'.\n",
      "Warning: Can't summarize feature 'g_mean' with summary 'mean'. Will set it as 'np.nan'.\n",
      "Warning: Can't summarize feature 'g_mean' with summary 'sd'. Will set it as 'np.nan'.\n",
      "Warning: Can't summarize feature 'h_mean' with summary 'mean'. Will set it as 'np.nan'.\n",
      "Warning: Can't summarize feature 'h_mean' with summary 'sd'. Will set it as 'np.nan'.\n"
     ]
    },
    {
     "name": "stdout",
     "output_type": "stream",
     "text": [
      "====== Model details ======\n",
      "Method: kNN\n",
      "Parameters: {'k': 5}\n",
      "Dataset size (instances, features): (10000, 48)\n",
      "Number of folds: 10\n",
      "Train instances per fold: 9000.0\n",
      "Test instances per fold: 1000.0\n",
      "===========================\n",
      "\n",
      "====== Hardware details ======\n",
      "Device name: /device:CPU:0\n",
      "Tensorflow version: 2.2.0-rc4\n",
      "===========================\n",
      "\n",
      "====== Execution details ======\n",
      "1. Fold (execution time: 3.1973419189453125 seconds, latency: 0.0031973419189453125\n",
      "2. Fold (execution time: 2.9479610919952393 seconds, latency: 0.0029479610919952394\n",
      "3. Fold (execution time: 2.8650691509246826 seconds, latency: 0.0028650691509246825\n",
      "4. Fold (execution time: 2.9485721588134766 seconds, latency: 0.0029485721588134767\n",
      "5. Fold (execution time: 3.255005121231079 seconds, latency: 0.003255005121231079\n",
      "6. Fold (execution time: 3.148874044418335 seconds, latency: 0.0031488740444183348\n",
      "7. Fold (execution time: 2.824737071990967 seconds, latency: 0.002824737071990967\n",
      "8. Fold (execution time: 3.0110161304473877 seconds, latency: 0.0030110161304473877\n",
      "9. Fold (execution time: 2.887631893157959 seconds, latency: 0.002887631893157959\n",
      "10. Fold (execution time: 2.90236496925354 seconds, latency: 0.00290236496925354\n",
      "\n",
      "====== Summary details ======\n",
      "Accuracy: 94.22\n",
      "Precision: 61.07226107226107\n",
      "Recall: 38.93016344725112\n",
      "F1 score: 47.54990925589836\n",
      "Log loss: 1.9963546289029224\n",
      "AUC: 0.688431825663104\n",
      "Mean squared error: 0.057800000000000004\n",
      "Mean abs error: 0.057800000000000004\n",
      "\n",
      "Confusion matrix negative (predicted)  positive (predicted)\n",
      "negative (actual)        916.0                16.7\n",
      "positive (actual)        41.1                26.2\n",
      "\n",
      "Mean execution time: 1.500928106236458\n",
      "Mean latency: 1.500928106236458\n",
      "====== Model details ======\n",
      "Method: kNN\n",
      "Parameters: {'k': 5}\n",
      "Dataset size (instances, features): (10000, 48)\n",
      "Number of folds: 10\n",
      "Train instances per fold: 9000.0\n",
      "Test instances per fold: 1000.0\n",
      "===========================\n",
      "\n",
      "====== Hardware details ======\n",
      "Device name: TPU\n",
      "Tensorflow version: 2.2.0-rc4\n",
      "===========================\n",
      "\n",
      "====== Execution details ======\n",
      "1. Fold (execution time: 2.9009978771209717 seconds, latency: 0.0029009978771209716\n",
      "2. Fold (execution time: 2.905003070831299 seconds, latency: 0.002905003070831299\n",
      "3. Fold (execution time: 2.873047113418579 seconds, latency: 0.0028730471134185793\n",
      "4. Fold (execution time: 3.0797641277313232 seconds, latency: 0.0030797641277313234\n",
      "5. Fold (execution time: 2.9915270805358887 seconds, latency: 0.0029915270805358886\n",
      "6. Fold (execution time: 2.9811160564422607 seconds, latency: 0.002981116056442261\n",
      "7. Fold (execution time: 2.9659998416900635 seconds, latency: 0.0029659998416900635\n",
      "8. Fold (execution time: 3.011007785797119 seconds, latency: 0.0030110077857971192\n",
      "9. Fold (execution time: 3.034446954727173 seconds, latency: 0.003034446954727173\n",
      "10. Fold (execution time: 3.0335400104522705 seconds, latency: 0.0030335400104522705\n",
      "\n",
      "====== Summary details ======\n",
      "Accuracy: 94.28999999999999\n",
      "Precision: 61.64383561643836\n",
      "Recall: 40.11887072808321\n",
      "F1 score: 48.6048604860486\n",
      "Log loss: 1.9721775653862277\n",
      "AUC: 0.6910081926115094\n",
      "Mean squared error: 0.0571\n",
      "Mean abs error: 0.0571\n",
      "\n",
      "Confusion matrix negative (predicted)  positive (predicted)\n",
      "negative (actual)        915.9                16.8\n",
      "positive (actual)        40.3                27.0\n",
      "\n",
      "Mean execution time: 1.4903113184332848\n",
      "Mean latency: 1.4903113184332848\n"
     ]
    }
   ],
   "source": [
    "\n",
    "    \n",
    "dataset, features, target, ft = data_transformation('./anomaly-detection-datasets/UNSW-NB15_1.csv', 'Label', True, 10000);\n",
    "build_model('kNN',{'k':5}, features, target, 10)"
   ]
  },
  {
   "cell_type": "code",
   "execution_count": 8,
   "metadata": {
    "colab": {
     "base_uri": "https://localhost:8080/",
     "height": 54
    },
    "colab_type": "code",
    "executionInfo": {
     "elapsed": 141661,
     "status": "ok",
     "timestamp": 1588954522013,
     "user": {
      "displayName": "Milos Kotlar",
      "photoUrl": "https://lh3.googleusercontent.com/a-/AOh14GhEMiwyzwMz55obXVpjlEhIWhJztN2l9NtZoJ3CTw=s64",
      "userId": "15641867929139600144"
     },
     "user_tz": -120
    },
    "id": "l2miB-M8bSs7",
    "outputId": "e8ac8566-f86a-49d2-a7b7-2e2d18631b52"
   },
   "outputs": [
    {
     "name": "stdout",
     "output_type": "stream",
     "text": [
      "(['attr_conc.mean', 'attr_conc.sd', 'attr_ent.mean', 'attr_ent.sd', 'attr_to_inst', 'can_cor.mean', 'can_cor.sd', 'cat_to_num', 'class_conc.mean', 'class_conc.sd', 'class_ent', 'cor.mean', 'cor.sd', 'cov.mean', 'cov.sd', 'eigenvalues.mean', 'eigenvalues.sd', 'eq_num_attr', 'freq_class.mean', 'freq_class.sd', 'g_mean.mean', 'g_mean.sd', 'gravity', 'h_mean.mean', 'h_mean.sd', 'inst_to_attr', 'iq_range.mean', 'iq_range.sd', 'joint_ent.mean', 'joint_ent.sd', 'kurtosis.mean', 'kurtosis.sd', 'mad.mean', 'mad.sd', 'max.mean', 'max.sd', 'mean.mean', 'mean.sd', 'median.mean', 'median.sd', 'min.mean', 'min.sd', 'mut_inf.mean', 'mut_inf.sd', 'nr_attr', 'nr_bin', 'nr_cat', 'nr_class', 'nr_cor_attr', 'nr_disc', 'nr_inst', 'nr_norm', 'nr_num', 'nr_outliers', 'ns_ratio', 'num_to_cat', 'range.mean', 'range.sd', 'sd.mean', 'sd.sd', 'sd_ratio', 'skewness.mean', 'skewness.sd', 'sparsity.mean', 'sparsity.sd', 't_mean.mean', 't_mean.sd', 'var.mean', 'var.sd', 'w_lambda'], [0.13965335, 0.21842285, 2.6470037, 1.6365846, 0.0048, 0.96898496, nan, 0.0, 0.07364528, 0.2090507, 0.35576602329874224, 0.12009203, 0.16674933, 922805100000000.0, 3.0706203e+16, 8.286076e+16, 4.5429006e+17, 3.9621621498477406, 0.5, 0.6119302, nan, nan, 346453219.5617253, nan, nan, 208.33333333333334, 115738360.0, 560717800.0, 2.912979, 1.6327385, 271.21677, 720.3249, 85166930.0, 412798400.0, 283479550.0, 941415000.0, 125081150.0, 419453800.0, 116977000.0, 392152960.0, 59246976.0, 287145340.0, 0.08979088, 0.09326796, 48, 3, 0, 2, 0.04875886524822695, 1, 10000, 0, 48, 41, 28.47964901837423, nan, 224232580.0, 911562000.0, 59755596.0, 284564670.0, nan, 7.7446027, 11.050127, 0.09596706, 0.14236599, 117564830.0, 394061860.0, 8.286077e+16, 4.0139878e+17, 0.061068136759102165])\n"
     ]
    }
   ],
   "source": [
    "print(ft)"
   ]
  },
  {
   "cell_type": "code",
   "execution_count": null,
   "metadata": {
    "colab": {},
    "colab_type": "code",
    "id": "NHqhYsEsbSs-"
   },
   "outputs": [],
   "source": []
  }
 ],
 "metadata": {
  "accelerator": "TPU",
  "colab": {
   "collapsed_sections": [],
   "name": "kNN.ipynb",
   "provenance": []
  },
  "kernelspec": {
   "display_name": "Python 3",
   "language": "python",
   "name": "python3"
  },
  "language_info": {
   "codemirror_mode": {
    "name": "ipython",
    "version": 3
   },
   "file_extension": ".py",
   "mimetype": "text/x-python",
   "name": "python",
   "nbconvert_exporter": "python",
   "pygments_lexer": "ipython3",
   "version": "3.7.6"
  }
 },
 "nbformat": 4,
 "nbformat_minor": 4
}
